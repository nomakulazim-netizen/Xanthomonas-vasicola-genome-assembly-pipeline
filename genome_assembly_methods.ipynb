{
 "cells": [
  {
   "cell_type": "markdown",
   "id": "458f27b1-e992-42b6-a79a-2b466c97feee",
   "metadata": {},
   "source": [
    "# Genome Assembly Workflow Notebook\n",
    "\n",
    "This notebook documents the full genome assembly workflow used in the study, including preprocessing, assembly, polishing, and evaluation.  \n",
    "Environment: `genome_assembly` (Python 3.10) for most steps, with Ragout running in a dedicated `ragout_env` (Python 2.7).\n"
   ]
  },
  {
   "cell_type": "code",
   "execution_count": null,
   "id": "45bdeece-7ddf-4871-9301-06195356be9c",
   "metadata": {},
   "outputs": [],
   "source": [
    "!conda info --envs\n",
    "!unicycler --version\n",
    "!bwa\n",
    "!samtools --version\n",
    "!seqkit version\n",
    "!blastn -version\n",
    "!busco --version\n",
    "!quast.py --version\n"
   ]
  },
  {
   "cell_type": "markdown",
   "id": "91137231-73fb-48a1-ade9-7525697a27bf",
   "metadata": {},
   "source": [
    "## Step 1a. Read preprocessing\n",
    "\n",
    "Reads were trimmed in **Geneious Prime** (following best practice guidelines).  \n",
    "Here we rename read headers for consistency.\n"
   ]
  },
  {
   "cell_type": "code",
   "execution_count": null,
   "id": "a94df3a3-3168-41df-b8d3-a5e588af6da7",
   "metadata": {},
   "outputs": [],
   "source": [
    "!seqkit rename R1.fastq.gz -o fixed_R1.fastq\n",
    "!seqkit rename R2.fastq.gz -o fixed_R2.fastq\n",
    "\n",
    "!sed 's/^\\(@[^[:space:]]*\\)_1/\\1/' fixed_R1.fastq > fixed_R1_clean.fastq\n",
    "!sed 's/^\\(@[^[:space:]]*\\)_2/\\1/' fixed_R2.fastq > fixed_R2_clean.fastq\n",
    "\n",
    "!paste <(grep \"^@\" fixed_R1_clean.fastq | head -n 5) <(grep \"^@\" fixed_R2_clean.fastq | head -n 5)\n"
   ]
  },
  {
   "cell_type": "markdown",
   "id": "9975ee5b-887f-437e-bc98-d591bb89aade",
   "metadata": {},
   "source": [
    "## Step 1b. Quality control with FastQC\n",
    "\n",
    "Raw reads and trimmed reads were quality-checked using **FastQC**.  \n",
    "- Initial QC was run immediately after receiving sequencing data.  \n",
    "- A second QC run was performed after trimming (following Geneious Prime best practices). "
   ]
  },
  {
   "cell_type": "markdown",
   "id": "9d4c4376-dbb2-4131-b1b8-182dd86bd3bd",
   "metadata": {},
   "source": [
    "## Step 2a. Chromosome assembly with Unicycler\n"
   ]
  },
  {
   "cell_type": "code",
   "execution_count": null,
   "id": "32b4ff7a-9f31-4116-96fb-b4f11e7b2cd7",
   "metadata": {},
   "outputs": [],
   "source": [
    "!unicycler -1 R1.fastq.gz -2 R2.fastq.gz -o all_reads_unicycler\n"
   ]
  },
  {
   "cell_type": "markdown",
   "id": "c410e7f5-2f2c-435c-88ac-d8d156d7e6eb",
   "metadata": {},
   "source": [
    "## Step 2b. Identify circularised contigs after Unicycler\n",
    "\n",
    "Unicycler reports circularised contigs separately.  \n",
    "- If contigs are already circular → assign as plasmids.  \n",
    "- Remaining linear contigs are considered chromosome candidates and forwarded to Ragout."
   ]
  },
  {
   "cell_type": "markdown",
   "id": "944c6372-30c1-4f33-9a44-bb9e05f78e93",
   "metadata": {},
   "source": [
    "## Step 3. Chromosome scaffolding with Ragout\n",
    "Ragout requires Python 2.7, so we call it from the `ragout_env`.\n"
   ]
  },
  {
   "cell_type": "code",
   "execution_count": null,
   "id": "4a17ecf5-532d-481b-b3ea-a2602f17206d",
   "metadata": {},
   "outputs": [],
   "source": [
    "import subprocess\n",
    "\n",
    "subprocess.run(\"\"\"\n",
    "conda run -n ragout_env ragout \\\n",
    "    -o chromosome_output \\\n",
    "    -s sibelia \\\n",
    "    chromosome_recipe.txt\n",
    "\"\"\", shell=True, check=True)\n"
   ]
  },
  {
   "cell_type": "markdown",
   "id": "e2ea628f-8ca8-4f79-b219-f8ac037719e1",
   "metadata": {},
   "source": [
    "## Step 4. Mapping reads back to chromosome assembly\n"
   ]
  },
  {
   "cell_type": "code",
   "execution_count": null,
   "id": "2f69e7f1-30a5-47f7-af16-51bd679ceab6",
   "metadata": {},
   "outputs": [],
   "source": [
    "!bwa index chromosome_scaffolds.fasta\n",
    "!bwa mem chromosome_scaffolds.fasta fixed_R1_clean.fastq fixed_R2_clean.fastq | samtools view -bS - > chrom_mapped.bam\n",
    "!samtools sort -o chrom_mapped_sorted.bam chrom_mapped.bam\n",
    "!samtools index chrom_mapped_sorted.bam\n"
   ]
  },
  {
   "cell_type": "markdown",
   "id": "6fd060ad-dfbf-4496-ab15-62475575b781",
   "metadata": {},
   "source": [
    "## Step 5. Extract unmapped reads and assemble plasmids with Unicycler\n"
   ]
  },
  {
   "cell_type": "code",
   "execution_count": null,
   "id": "a37b7429-3ddc-4796-9caa-599960b7114b",
   "metadata": {},
   "outputs": [],
   "source": [
    "!samtools view -b -f 12 -F 256 chrom_mapped_sorted.bam > unmapped.bam\n",
    "!samtools fastq unmapped.bam -1 unmapped_R1.fastq -2 unmapped_R2.fastq -0 /dev/null -s /dev/null -n\n",
    "\n",
    "!unicycler -1 unmapped_R1.fastq -2 unmapped_R2.fastq -o plasmid_unicycler\n"
   ]
  },
  {
   "cell_type": "markdown",
   "id": "fbef77e8-3ba7-432c-80b8-8b524f3d40c7",
   "metadata": {},
   "source": [
    "## Step 6. Iterative plasmid discovery and validation\n",
    "\n",
    "Plasmid contigs assembled by Unicycler (unmapped reads) or RagTag scaffolding  \n",
    "were searched against **PLSDB** using BLAST.  \n",
    "\n",
    "- Hits ≥ 90% identity and ≥ 500 bp alignment were considered significant.  "
   ]
  },
  {
   "cell_type": "code",
   "execution_count": null,
   "id": "511963a9-7222-4b9a-b1ff-afffc47805c2",
   "metadata": {},
   "outputs": [],
   "source": [
    "!blastn -query plasmid_unicycler/assembly.fasta -db plsdb -out plasmid_plsdb_blast.txt \\\n",
    "  -outfmt \"6 qseqid sseqid pident length evalue bitscore\" -evalue 1e-20\n",
    "\n",
    "!awk '$3>=90 && $4>=500' plasmid_plsdb_blast.txt > plasmid_strong_hits.txt\n"
   ]
  },
  {
   "cell_type": "markdown",
   "id": "539c22e4-5d17-413e-a4a4-e6b54c88e063",
   "metadata": {},
   "source": [
    "## Step 7. RagTag plasmid scaffolding\n",
    "\n",
    "- **Unicycler plasmids**: Circular contigs produced directly by Unicycler were retained as plasmids, regardless of size, since they represent complete replicons.  \n",
    "\n",
    "- **RagTag scaffolds**: Contigs <10 kb were excluded from plasmid consideration.  \n",
    "    - Short reference-guided scaffolds may represent incomplete fragments, repeats, or assembly artefacts rather than true plasmids.  \n",
    "    - A 10 kb threshold ensures that only biologically meaningful plasmids are reported, while minimising false positives from RagTag assemblies.\n",
    "\n"
   ]
  },
  {
   "cell_type": "code",
   "execution_count": null,
   "id": "303987ea-af23-45e3-b9f7-41dc3a3a89dd",
   "metadata": {},
   "outputs": [],
   "source": [
    "!ragtag.py scaffold reference.fasta plasmid_unicycler/assembly.fasta -o plasmid_ragtag\n"
   ]
  },
  {
   "cell_type": "markdown",
   "id": "cce66ec4-7d0a-456f-b96b-de5b8879cd01",
   "metadata": {},
   "source": [
    "## Step 8. Circularisation of chromosome and plasmids\n",
    "\n",
    "Both plasmid and chromosome assemblies were circularised using Circlator \n",
    "to standardise start positions and confirm closed molecules."
   ]
  },
  {
   "cell_type": "code",
   "execution_count": null,
   "id": "7d9ba44a-2ca9-40ee-97c6-2bc3eaae8494",
   "metadata": {},
   "outputs": [],
   "source": [
    "# Circularise plasmid assemblies\n",
    "!circlator fixstart plasmid_ragtag/ragtag.scaffold.fasta plasmid_circularised\n",
    "\n",
    "# Circularise chromosome assembly\n",
    "!circlator fixstart chromosome_output/scaffolds.fasta chromosome_circularised"
   ]
  },
  {
   "cell_type": "markdown",
   "id": "8e1a21eb-b118-4c98-b638-07377d7f2743",
   "metadata": {},
   "source": [
    "## Step 9. Coverage analysis\n"
   ]
  },
  {
   "cell_type": "code",
   "execution_count": null,
   "id": "bc0bedf0-6921-4875-900b-f2ff1e460653",
   "metadata": {},
   "outputs": [],
   "source": [
    "!bwa index chromosome.fasta\n",
    "!bwa mem -t 8 chromosome.fasta fixed_R1_clean.fastq fixed_R2_clean.fastq | samtools sort -@ 4 -o chromosome.bam\n",
    "!samtools index chromosome.bam\n",
    "\n",
    "!bwa index plasmid.fasta\n",
    "!bwa mem -t 8 plasmid.fasta fixed_R1_clean.fastq fixed_R2_clean.fastq | samtools sort -@ 4 -o plasmid.bam\n",
    "!samtools index plasmid.bam\n",
    "\n",
    "!samtools depth -a chromosome.bam | awk '{sum[$1]+=$3; count[$1]++} END {for (id in sum) print id, sum[id]/count[id]}' > chromosome_depth.txt\n",
    "!samtools depth -a plasmid.bam | awk '{sum[$1]+=$3; count[$1]++} END {for (id in sum) print id, sum[id]/count[id]}' > plasmid_depth.txt\n"
   ]
  },
  {
   "cell_type": "markdown",
   "id": "8faeec2b-e69c-492d-971f-07cfc12c2b81",
   "metadata": {},
   "source": [
    "## Step 10. Assembly evaluation with QUAST and BUSCO\n"
   ]
  },
  {
   "cell_type": "markdown",
   "id": "cc2362cd-f07a-4ce5-9a1f-b858d1c1fde2",
   "metadata": {},
   "source": [
    "We used QUAST to evaluate both the initial Unicycler assembly (to capture contig statistics before scaffolding) and the final chromosome assembly (after Ragout).  \n",
    "BUSCO was used on both assemblies to assess completeness at each stage.\n"
   ]
  },
  {
   "cell_type": "code",
   "execution_count": null,
   "id": "f003477a-cd6e-44f6-9d57-73175f68ed59",
   "metadata": {},
   "outputs": [],
   "source": [
    "# QUAST: run on both initial and final assemblies\n",
    "quast.py unicycler_assembly.fasta -o quast_unicycler_output\n",
    "quast.py chromosome.fasta -o quast_chromosome_output\n",
    "\n",
    "# BUSCO: run on both assemblies\n",
    "busco -i unicycler_assembly.fasta -m genome -l bacteria -o busco_unicycler\n",
    "busco -i chromosome.fasta -m genome -l bacteria -o busco_chromosome\n"
   ]
  },
  {
   "cell_type": "markdown",
   "id": "a8cfe360-4e3d-4f4c-999e-8e70bc2d0663",
   "metadata": {},
   "source": [
    "## Step 11. Contamination check with CheckM2\n",
    "**Note:** Genome assemblies were additionally screened for contamination using **CheckM2** (run via Galaxy platform).  \n",
    "- This step was performed outside the conda/Jupyter environment.\n",
    "- All reported genomes passed CheckM2 with acceptable contamination thresholds (<1%).  "
   ]
  },
  {
   "cell_type": "markdown",
   "id": "146b5587-e679-4d98-92bc-2b2d3ff2ff7a",
   "metadata": {},
   "source": [
    "## Special Case\n",
    "**Note on BCC1689:**\n",
    "\n",
    "For this strain, plasmid copy number was extremely low. A plasmid band was independently confirmed on agarose gel electrophoresis.  \n",
    "To recover plasmid sequences:\n",
    "\n",
    "- Plasmid search was performed **directly on raw reads before Unicycler**, to enrich plasmid-derived reads.  \n",
    "- The enriched plasmid reads were assembled separately.  \n",
    "- Chromosomal reads were then assembled with the standard pipeline (Unicycler → Ragout).  \n",
    "\n",
    "This adjustment was necessary to account for low plasmid abundance, but did not affect overall genome completeness (BUSCO completeness = **98.3%**).\n"
   ]
  },
  {
   "cell_type": "markdown",
   "id": "c0c80f23-a493-43b1-8cdd-399dd592ce77",
   "metadata": {},
   "source": [
    "# Summary\n",
    "\n",
    "- **Circularised chromosome**: `chromosome_circularised`\n",
    "- **Circularised plasmids**: `plasmid_circularised`  \n",
    "  - Includes all circular Unicycler plasmids (regardless of size)  \n",
    "  - RagTag scaffolds <10 kb excluded as likely artefacts\n",
    "- **Iterative plasmid search** continued until:\n",
    "  - No new BLAST/PLSDB hits found, OR\n",
    "  - New assemblies < 10 kb (excluded as unlikely plasmids; cutoff chosen because plasmids below this size are typically unstable or non-functional in bacteria)\n",
    "\n",
    "- **Assembly evaluation**:\n",
    "  - *Pre-scaffolding (Unicycler)*:  \n",
    "    - Contig count, N50, and other statistics from `quast_unicycler_output`  \n",
    "    - Completeness from `busco_unicycler`  \n",
    "  - *Post-scaffolding (final chromosome)*:  \n",
    "    - Genome size and gap statistics from `quast_chromosome_output`  \n",
    "    - Completeness from `busco_chromosome`  \n",
    "\n",
    "- **Coverage**: `chromosome_depth.txt`, `plasmid_depth.txt`"
   ]
  }
 ],
 "metadata": {
  "kernelspec": {
   "display_name": "Python 3 (ipykernel)",
   "language": "python",
   "name": "python3"
  },
  "language_info": {
   "codemirror_mode": {
    "name": "ipython",
    "version": 3
   },
   "file_extension": ".py",
   "mimetype": "text/x-python",
   "name": "python",
   "nbconvert_exporter": "python",
   "pygments_lexer": "ipython3",
   "version": "3.12.2"
  }
 },
 "nbformat": 4,
 "nbformat_minor": 5
}
